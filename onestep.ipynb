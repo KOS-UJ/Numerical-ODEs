{
 "nbformat": 4,
 "nbformat_minor": 0,
 "metadata": {
  "colab": {
   "name": "picard.ipynb",
   "provenance": [],
   "collapsed_sections": []
  },
  "kernelspec": {
   "name": "python3",
   "display_name": "Python 3"
  }
 },
 "cells": [
  {
   "cell_type": "markdown",
   "metadata": {
    "id": "IWuOh5GQ347_"
   },
   "source": [
    "## Numeryczne Rozwiązywanie Rónań Różniczkowych Zwyczajnych\n",
    "### Uniwersytet Jagielloński 2021\n",
    "Katedra Teorii Optymalizacji i Sterowania UJ"
   ]
  },
  {
   "cell_type": "code",
   "metadata": {
    "id": "Q9umRbG8QnQY"
   },
   "source": [
    "import numpy as np\n",
    "import matplotlib.pyplot as plt"
   ],
   "execution_count": null,
   "outputs": []
  },
  {
   "cell_type": "markdown",
   "metadata": {
    "id": "61jUgF2Q4F20"
   },
   "source": [
    "## Rozwiązania"
   ]
  },
  {
   "cell_type": "code",
   "metadata": {
    "id": "R2uV2I0hOHR0"
   },
   "source": [
    "def open_euler(f, t, x0, t0):\n",
    "    return x"
   ],
   "execution_count": null,
   "outputs": []
  },
  {
   "cell_type": "code",
   "execution_count": null,
   "outputs": [],
   "source": [
    "def heun(f, t, x0, t0):\n",
    "    return x"
   ],
   "metadata": {
    "collapsed": false,
    "pycharm": {
     "name": "#%%\n"
    }
   }
  },
  {
   "cell_type": "code",
   "execution_count": null,
   "outputs": [],
   "source": [
    "def modified_euler(f, t, x0, t0):\n",
    "    return x"
   ],
   "metadata": {
    "collapsed": false,
    "pycharm": {
     "name": "#%%\n"
    }
   }
  },
  {
   "cell_type": "code",
   "execution_count": null,
   "outputs": [],
   "source": [
    "def rk4(f, t, x0, t0):\n",
    "    return x"
   ],
   "metadata": {
    "collapsed": false,
    "pycharm": {
     "name": "#%%\n"
    }
   }
  },
  {
   "cell_type": "markdown",
   "metadata": {
    "id": "a9WAlMl85aOY"
   },
   "source": [
    "## Przypadek testowy\n",
    "Proszę zaimplementować fukcję kwadratową i porónać rozwiązanie dokładne z numerycznym"
   ]
  },
  {
   "cell_type": "code",
   "metadata": {
    "id": "heGSbr7g5jZy"
   },
   "source": [
    "x0 = 0.\n",
    "t0 = 0.\n",
    "n = 100\n",
    "\n",
    "def exact(t):\n",
    "    return t ** 2\n",
    "\n",
    "def f(t, x):\n",
    "    return 2 * t\n",
    "\n",
    "t_range = (t0, 1)\n",
    "t = np.linspace(t_range[0], t_range[1], n)\n"
   ],
   "execution_count": null,
   "outputs": []
  },
  {
   "cell_type": "code",
   "execution_count": null,
   "outputs": [],
   "source": [
    "%%time\n",
    "x_euler = open_euler(f, t, x0, t0)"
   ],
   "metadata": {
    "collapsed": false,
    "pycharm": {
     "name": "#%%\n"
    }
   }
  },
  {
   "cell_type": "code",
   "execution_count": null,
   "outputs": [],
   "source": [
    "%%time\n",
    "x_heun = heun(f, t, x0, t0)"
   ],
   "metadata": {
    "collapsed": false,
    "pycharm": {
     "name": "#%%\n"
    }
   }
  },
  {
   "cell_type": "code",
   "execution_count": null,
   "outputs": [],
   "source": [
    "%%time\n",
    "x_mod = modified_euler(f, t, x0, t0)"
   ],
   "metadata": {
    "collapsed": false,
    "pycharm": {
     "name": "#%%\n"
    }
   }
  },
  {
   "cell_type": "code",
   "execution_count": null,
   "outputs": [],
   "source": [
    "%%time\n",
    "x_rk4 = rk4(f, t, x0, t0)"
   ],
   "metadata": {
    "collapsed": false,
    "pycharm": {
     "name": "#%%\n"
    }
   }
  },
  {
   "cell_type": "code",
   "execution_count": null,
   "outputs": [],
   "source": [
    "plt.plot(t, x_euler, color=\"olive\")\n",
    "plt.plot(t, x_heun, color=\"cyan\")\n",
    "plt.plot(t, x_mod, color=\"pink\")\n",
    "plt.plot(t, x_rk4, color=\"green\")\n",
    "plt.plot(t, exact(t), color=\"red\")\n",
    "plt.grid()"
   ],
   "metadata": {
    "collapsed": false,
    "pycharm": {
     "name": "#%%\n"
    }
   }
  },
  {
   "cell_type": "markdown",
   "metadata": {
    "id": "Ijfi_rJp4NsC"
   },
   "source": [
    "## Zagadnienie 1"
   ]
  },
  {
   "cell_type": "code",
   "metadata": {
    "id": "25o54yqgQuQS"
   },
   "source": [
    "def f(t, x):\n",
    "    pass\n",
    "\n",
    "# TODO"
   ],
   "execution_count": null,
   "outputs": []
  },
  {
   "cell_type": "code",
   "metadata": {
    "colab": {
     "base_uri": "https://localhost:8080/"
    },
    "id": "HUt7_Sq3Q-s-",
    "outputId": "b12de7ac-61a5-400c-ef72-c30f0718c718"
   },
   "source": [
    "%%time\n",
    "x_euler = open_euler(f, t, x0, t0)"
   ],
   "execution_count": null,
   "outputs": []
  },
  {
   "cell_type": "code",
   "metadata": {
    "colab": {
     "base_uri": "https://localhost:8080/",
     "height": 265
    },
    "id": "tW06gbBkRhdx",
    "outputId": "196b6236-b295-4d80-d40b-eccc61faab77"
   },
   "source": [
    "%%time\n",
    "x_heun = heun(f, t, x0, t0)"
   ],
   "execution_count": null,
   "outputs": []
  },
  {
   "cell_type": "code",
   "execution_count": null,
   "outputs": [],
   "source": [
    "%%time\n",
    "x_mod = modified_euler(f, t, x0, t0)"
   ],
   "metadata": {
    "collapsed": false,
    "pycharm": {
     "name": "#%%\n"
    }
   }
  },
  {
   "cell_type": "code",
   "execution_count": null,
   "outputs": [],
   "source": [
    "%%time\n",
    "x_rk4 = rk4(f, t, x0, t0)"
   ],
   "metadata": {
    "collapsed": false,
    "pycharm": {
     "name": "#%%\n"
    }
   }
  },
  {
   "cell_type": "code",
   "execution_count": null,
   "outputs": [],
   "source": [
    "plt.plot(t, x_euler, color=\"olive\")\n",
    "plt.plot(t, x_heun, color=\"cyan\")\n",
    "plt.plot(t, x_mod, color=\"pink\")\n",
    "plt.plot(t, x_rk4, color=\"green\")\n",
    "plt.plot(t, exact(t), color=\"red\")\n",
    "plt.grid()"
   ],
   "metadata": {
    "collapsed": false,
    "pycharm": {
     "name": "#%%\n"
    }
   }
  },
  {
   "cell_type": "markdown",
   "source": [
    "## Zagadnienie 2"
   ],
   "metadata": {
    "collapsed": false
   }
  },
  {
   "cell_type": "code",
   "execution_count": null,
   "outputs": [],
   "source": [
    "def f(t, x):\n",
    "    pass\n",
    "\n",
    "# TODO"
   ],
   "metadata": {
    "collapsed": false,
    "pycharm": {
     "name": "#%%\n"
    }
   }
  },
  {
   "cell_type": "code",
   "execution_count": null,
   "outputs": [],
   "source": [
    "%%time\n",
    "x_euler = open_euler(f, t, x0, t0)"
   ],
   "metadata": {
    "collapsed": false,
    "pycharm": {
     "name": "#%%\n"
    }
   }
  },
  {
   "cell_type": "code",
   "execution_count": null,
   "outputs": [],
   "source": [
    "%%time\n",
    "x_heun = heun(f, t, x0, t0)"
   ],
   "metadata": {
    "collapsed": false,
    "pycharm": {
     "name": "#%%\n"
    }
   }
  },
  {
   "cell_type": "code",
   "execution_count": null,
   "outputs": [],
   "source": [
    "%%time\n",
    "x_mod = modified_euler(f, t, x0, t0)"
   ],
   "metadata": {
    "collapsed": false,
    "pycharm": {
     "name": "#%%\n"
    }
   }
  },
  {
   "cell_type": "code",
   "execution_count": null,
   "outputs": [],
   "source": [
    "%%time\n",
    "x_rk4 = rk4(f, t, x0, t0)"
   ],
   "metadata": {
    "collapsed": false,
    "pycharm": {
     "name": "#%%\n"
    }
   }
  },
  {
   "cell_type": "code",
   "execution_count": null,
   "outputs": [],
   "source": [
    "plt.plot(t, x_euler, color=\"olive\")\n",
    "plt.plot(t, x_heun, color=\"cyan\")\n",
    "plt.plot(t, x_mod, color=\"pink\")\n",
    "plt.plot(t, x_rk4, color=\"green\")\n",
    "plt.plot(t, exact(t), color=\"red\")\n",
    "plt.grid()"
   ],
   "metadata": {
    "collapsed": false,
    "pycharm": {
     "name": "#%%\n"
    }
   }
  },
  {
   "cell_type": "markdown",
   "source": [
    "## Zagadnienie 3"
   ],
   "metadata": {
    "collapsed": false
   }
  },
  {
   "cell_type": "code",
   "execution_count": null,
   "outputs": [],
   "source": [
    "def f(t, x):\n",
    "    pass\n",
    "\n",
    "# TODO"
   ],
   "metadata": {
    "collapsed": false,
    "pycharm": {
     "name": "#%%\n"
    }
   }
  },
  {
   "cell_type": "code",
   "execution_count": null,
   "outputs": [],
   "source": [
    "%%time\n",
    "x_euler = open_euler(f, t, x0, t0)"
   ],
   "metadata": {
    "collapsed": false,
    "pycharm": {
     "name": "#%%\n"
    }
   }
  },
  {
   "cell_type": "code",
   "execution_count": null,
   "outputs": [],
   "source": [
    "%%time\n",
    "x_heun = heun(f, t, x0, t0)"
   ],
   "metadata": {
    "collapsed": false,
    "pycharm": {
     "name": "#%%\n"
    }
   }
  },
  {
   "cell_type": "code",
   "execution_count": null,
   "outputs": [],
   "source": [
    "%%time\n",
    "x_mod = modified_euler(f, t, x0, t0)"
   ],
   "metadata": {
    "collapsed": false,
    "pycharm": {
     "name": "#%%\n"
    }
   }
  },
  {
   "cell_type": "code",
   "execution_count": null,
   "outputs": [],
   "source": [
    "%%time\n",
    "x_rk4 = rk4(f, t, x0, t0)"
   ],
   "metadata": {
    "collapsed": false,
    "pycharm": {
     "name": "#%%\n"
    }
   }
  },
  {
   "cell_type": "code",
   "execution_count": null,
   "outputs": [],
   "source": [
    "plt.plot(t, x_euler, color=\"olive\")\n",
    "plt.plot(t, x_heun, color=\"cyan\")\n",
    "plt.plot(t, x_mod, color=\"pink\")\n",
    "plt.plot(t, x_rk4, color=\"green\")\n",
    "plt.plot(t, exact(t), color=\"red\")\n",
    "plt.grid()"
   ],
   "metadata": {
    "collapsed": false,
    "pycharm": {
     "name": "#%%\n"
    }
   }
  },
  {
   "cell_type": "code",
   "execution_count": null,
   "outputs": [],
   "source": [],
   "metadata": {
    "collapsed": false,
    "pycharm": {
     "name": "#%%\n"
    }
   }
  }
 ]
}