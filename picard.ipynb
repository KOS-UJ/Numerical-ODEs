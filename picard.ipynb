{
 "nbformat": 4,
 "nbformat_minor": 0,
 "metadata": {
  "colab": {
   "name": "picard.ipynb",
   "provenance": [],
   "collapsed_sections": []
  },
  "kernelspec": {
   "name": "python3",
   "display_name": "Python 3"
  }
 },
 "cells": [
  {
   "cell_type": "markdown",
   "metadata": {
    "id": "IWuOh5GQ347_"
   },
   "source": [
    "## Numeryczne Rozwiązywanie Rónań Różniczkowych Zwyczajnych\n",
    "### Uniwersytet Jagielloński 2025\n",
    "Katedra Teorii Optymalizacji i Sterowania UJ"
   ]
  },
  {
   "cell_type": "code",
   "metadata": {
    "id": "Q9umRbG8QnQY"
   },
   "source": [
    "import numpy as np\n",
    "import matplotlib.pyplot as plt"
   ],
   "execution_count": 1,
   "outputs": []
  },
  {
   "cell_type": "markdown",
   "metadata": {
    "id": "61jUgF2Q4F20"
   },
   "source": [
    "## Rozwiązanie"
   ]
  },
  {
   "cell_type": "code",
   "metadata": {
    "id": "R2uV2I0hOHR0"
   },
   "source": [
    "def solve(f, t, x0, t0_index, iter=8):\n",
    "    return x"
   ],
   "execution_count": 2,
   "outputs": []
  },
  {
   "cell_type": "markdown",
   "metadata": {
    "id": "a9WAlMl85aOY"
   },
   "source": [
    "## Przypadek testowy\n",
    "Proszę zaimplementować fukcję kwadratową i porónać rozwiązanie dokładne z numerycznym"
   ]
  },
  {
   "cell_type": "code",
   "metadata": {
    "id": "heGSbr7g5jZy"
   },
   "source": [
    "x0 = 0.\n",
    "t0 = 0.\n",
    "\n",
    "def exact(t):\n",
    "    pass\n",
    "\n",
    "def f(t, x):\n",
    "    pass\n",
    "\n",
    "t_range = (-4, 4)\n",
    "t = np.linspace(t_range[0], t_range[1], n)"
   ],
   "execution_count": 13,
   "outputs": []
  },
  {
   "cell_type": "markdown",
   "metadata": {
    "id": "Ijfi_rJp4NsC"
   },
   "source": [
    "## Przypadek 1"
   ]
  },
  {
   "cell_type": "code",
   "metadata": {
    "id": "25o54yqgQuQS"
   },
   "source": [
    "def f(t, x):\n",
    "    return x + 2*t\n",
    "\n",
    "x0 = -2.\n",
    "n = 1000\n",
    "t_range = (-1, 1)\n",
    "t = np.linspace(t_range[0], t_range[1], n)"
   ],
   "execution_count": 3,
   "outputs": []
  },
  {
   "cell_type": "code",
   "metadata": {
    "colab": {
     "base_uri": "https://localhost:8080/"
    },
    "id": "HUt7_Sq3Q-s-",
    "outputId": "b12de7ac-61a5-400c-ef72-c30f0718c718"
   },
   "source": [
    "%%time\n",
    "x = solve(f, t, x0, t0_index=n//2, iter=50)"
   ],
   "execution_count": 4,
   "outputs": [
    {
     "output_type": "stream",
     "text": [
      "CPU times: user 2.54 ms, sys: 886 µs, total: 3.42 ms\n",
      "Wall time: 8.71 ms\n"
     ],
     "name": "stdout"
    }
   ]
  },
  {
   "cell_type": "code",
   "metadata": {
    "colab": {
     "base_uri": "https://localhost:8080/",
     "height": 265
    },
    "id": "tW06gbBkRhdx",
    "outputId": "196b6236-b295-4d80-d40b-eccc61faab77"
   },
   "source": [
    "plt.plot(t, x)\n",
    "plt.grid()"
   ],
   "execution_count": 5,
   "outputs": [
    {
     "output_type": "display_data",
     "data": {
      "image/png": "[encoded data removed]",
      "text/plain": [
       "<Figure size 432x288 with 1 Axes>"
      ]
     },
     "metadata": {
      "tags": [],
      "needs_background": "light"
     }
    }
   ]
  },
  {
   "cell_type": "markdown",
   "metadata": {
    "id": "yAHfRcKB4YVW"
   },
   "source": [
    "## Zbieżność\n",
    "Proszę spróbować zmienić x0 na 0, jak się to ma rozwiązania analityczego?"
   ]
  },
  {
   "cell_type": "code",
   "metadata": {
    "colab": {
     "base_uri": "https://localhost:8080/",
     "height": 265
    },
    "id": "yTQhc6xl9AA8",
    "outputId": "da6f8ce8-445e-4765-acb6-7e4ec6443bf6"
   },
   "source": [
    "x0 = -2.\n",
    "t0 = 0.\n",
    "n = 1000\n",
    "t_range = (-1, 1)\n",
    "\n",
    "def f(t, x):\n",
    "    return x + 2*t\n",
    "\n",
    "def exact(t):\n",
    "    return (2+x0) * np.exp(t) - 2 * t - 2\n",
    "\n",
    "iters = [2**i for i in range(4)]\n",
    "plt.plot(t, exact(t), color=\"red\")\n",
    "for i, iter in enumerate(iters):\n",
    "    t = np.concatenate((np.linspace(t_range[0], t0, n//2), np.linspace(t0, t_range[1], n//2)))\n",
    "    x = solve(f, t, x0, n // 2, iter=iter)\n",
    "    plt.plot(t, x, color=f'{1 - (0.15 + 0.6 * i / len(iters))}')"
   ],
   "execution_count": 10,
   "outputs": [
    {
     "output_type": "display_data",
     "data": {
      "image/png": "[encoded data removed]",
      "text/plain": [
       "<Figure size 432x288 with 1 Axes>"
      ]
     },
     "metadata": {
      "tags": [],
      "needs_background": "light"
     }
    }
   ]
  },
  {
   "cell_type": "markdown",
   "metadata": {
    "id": "35CWerx98Rii"
   },
   "source": [
    "## Zależność błędu od *dt* i liczby iteracji\n",
    "\n"
   ]
  },
  {
   "cell_type": "code",
   "metadata": {
    "id": "UQ-2YOqsRppe"
   },
   "source": [
    "def error(estimated, exact):\n",
    "    return np.max(np.abs(exact - estimated))\n",
    "\n",
    "\n",
    "def plot_errors(x0, t0, t_range, f, exact, iters_len, n_points_len):\n",
    "    iters = [2**i for i in range(iters_len)]\n",
    "    n_points = [10**(1+i) for i in range(n_points_len)]\n",
    "    for i, n in enumerate(n_points):\n",
    "        errors = []\n",
    "        for iter in iters:\n",
    "            t = np.concatenate((np.linspace(t_range[0], t0, n // 2), np.linspace(t0, t_range[1], n // 2)))\n",
    "            x = solve(f, t, x0, n // 2, iter=iter)\n",
    "            errors.append(error(x, exact(t)))\n",
    "        plt.plot(iters, errors, color=f'{1 - (0.15 + 0.6 * i / len(n_points))}')\n",
    "    plt.loglog()\n",
    "    plt.grid()\n",
    "    plt.show()"
   ],
   "execution_count": 14,
   "outputs": []
  },
  {
   "cell_type": "code",
   "metadata": {
    "colab": {
     "base_uri": "https://localhost:8080/",
     "height": 305
    },
    "id": "bhoB1Cvx6_n_",
    "outputId": "e40a7fce-0ed9-4877-9e7b-ea9b0bd26640"
   },
   "source": [
    "%%time\n",
    "x0 = 0.\n",
    "t0 = 0.\n",
    "\n",
    "def exact(t):\n",
    "    return (2+x0) * np.exp(t) - 2 * t - 2\n",
    "\n",
    "def f(t, x):\n",
    "    return x + 2*t\n",
    "\n",
    "t_start = -4\n",
    "t_stop = 4\n",
    "\n",
    "plot_errors(x0, t0, (t_start, t_stop), f, exact, iters_len=8, n_points_len=7)"
   ],
   "execution_count": 15,
   "outputs": [
    {
     "output_type": "display_data",
     "data": {
      "image/png": "[encoded data removed]",
      "text/plain": [
       "<Figure size 432x288 with 1 Axes>"
      ]
     },
     "metadata": {
      "tags": [],
      "needs_background": "light"
     }
    },
    {
     "output_type": "stream",
     "text": [
      "CPU times: user 47.3 s, sys: 624 ms, total: 47.9 s\n",
      "Wall time: 47.9 s\n"
     ],
     "name": "stdout"
    }
   ]
  },
  {
   "cell_type": "markdown",
   "metadata": {
    "id": "DTqI8Mmk7G1Q"
   },
   "source": [
    "### Zadanie dodatkowe\n",
    "\n",
    "* Porówać czasy i dokładność roziwązania z wybraną biblioteką\n",
    "* Pomysł na optymalizację?"
   ]
  },
  {
   "cell_type": "code",
   "metadata": {
    "id": "GWi6o-iS7Ga9"
   },
   "source": [],
   "execution_count": null,
   "outputs": []
  }
 ]
}
