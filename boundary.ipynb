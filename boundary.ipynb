{
 "nbformat": 4,
 "nbformat_minor": 0,
 "metadata": {
  "colab": {
   "name": "picard.ipynb",
   "provenance": [],
   "collapsed_sections": []
  },
  "kernelspec": {
   "name": "python3",
   "display_name": "Python 3"
  }
 },
 "cells": [
  {
   "cell_type": "markdown",
   "metadata": {
    "id": "IWuOh5GQ347_"
   },
   "source": [
    "## Numeryczne Rozwiązywanie Rónań Różniczkowych Zwyczajnych\n",
    "### Uniwersytet Jagielloński 2021\n",
    "Katedra Teorii Optymalizacji i Sterowania UJ"
   ]
  },
  {
   "cell_type": "code",
   "metadata": {
    "id": "Q9umRbG8QnQY"
   },
   "source": [
    "import numpy as np\n",
    "import matplotlib.pyplot as plt"
   ],
   "execution_count": null,
   "outputs": []
  },
  {
   "cell_type": "markdown",
   "metadata": {
    "id": "a9WAlMl85aOY"
   },
   "source": [
    "## Przypadek testowy\n",
    "Proszę zaimplementować fukcję kwadratową i porónać rozwiązanie dokładne z numerycznym"
   ]
  },
  {
   "cell_type": "code",
   "metadata": {
    "id": "heGSbr7g5jZy"
   },
   "source": [
    "x0 = 0.\n",
    "x1 = 0.\n",
    "n = 100\n",
    "\n",
    "def exact(t):\n",
    "    pass\n",
    "\n",
    "def f(t, x):\n",
    "    pass\n",
    "\n",
    "t_range = (0, 1)\n",
    "t = np.linspace(t_range[0], t_range[1], n)\n"
   ],
   "execution_count": null,
   "outputs": []
  },
  {
   "cell_type": "markdown",
   "source": [
    "## Metoda strzałów\n"
   ],
   "metadata": {
    "collapsed": false
   }
  },
  {
   "cell_type": "markdown",
   "source": [
    "#### Zagadnienie początkowe"
   ],
   "metadata": {
    "collapsed": false
   }
  },
  {
   "cell_type": "code",
   "execution_count": null,
   "outputs": [],
   "source": [
    "def initial_value_problem(z, ...):\n",
    "\n",
    "    return x_b"
   ],
   "metadata": {
    "collapsed": false
   }
  },
  {
   "cell_type": "markdown",
   "source": [
    "#### Funkcja phi"
   ],
   "metadata": {
    "collapsed": false
   }
  },
  {
   "cell_type": "code",
   "execution_count": null,
   "outputs": [],
   "source": [
    "def phi(z):\n",
    "    pass"
   ],
   "metadata": {
    "collapsed": false
   }
  },
  {
   "cell_type": "markdown",
   "source": [
    "#### Pochodna funkcji phi"
   ],
   "metadata": {
    "collapsed": false
   }
  },
  {
   "cell_type": "code",
   "execution_count": null,
   "outputs": [],
   "source": [
    "def d_phi(z):\n",
    "    pass"
   ],
   "metadata": {
    "collapsed": false
   }
  },
  {
   "cell_type": "markdown",
   "source": [
    "#### Metoda Newtona"
   ],
   "metadata": {
    "collapsed": false
   }
  },
  {
   "cell_type": "code",
   "execution_count": null,
   "outputs": [],
   "source": [
    "def newton(function, initial_value):\n",
    "    pass"
   ],
   "metadata": {
    "collapsed": false
   }
  },
  {
   "cell_type": "code",
   "execution_count": null,
   "outputs": [],
   "source": [
    "x_shooting = newton(phi, z)\n"
   ],
   "metadata": {
    "collapsed": false
   }
  },
  {
   "cell_type": "code",
   "execution_count": null,
   "outputs": [],
   "source": [
    "plt.plot(t, x_shooting, color=\"olive\")\n",
    "plt.plot(t, exact(t), color=\"red\")\n",
    "plt.grid()"
   ],
   "metadata": {
    "collapsed": false
   }
  },
  {
   "cell_type": "markdown",
   "source": [
    "## Metoda różnic skończonych\n"
   ],
   "metadata": {
    "collapsed": false
   }
  },
  {
   "cell_type": "markdown",
   "metadata": {
    "id": "Ijfi_rJp4NsC"
   },
   "source": [
    "#### Konstrukcja układu równań"
   ]
  },
  {
   "cell_type": "code",
   "metadata": {
    "id": "25o54yqgQuQS"
   },
   "source": [
    "# TODO"
   ],
   "execution_count": null,
   "outputs": []
  },
  {
   "cell_type": "markdown",
   "metadata": {
    "colab": {
     "base_uri": "https://localhost:8080/"
    },
    "id": "HUt7_Sq3Q-s-",
    "outputId": "b12de7ac-61a5-400c-ef72-c30f0718c718"
   },
   "source": [
    "#### Rozwiązanie układu równań"
   ]
  },
  {
   "cell_type": "code",
   "execution_count": null,
   "outputs": [],
   "source": [
    "x_finite_diff = np.linalg.solve(a, b)\n"
   ],
   "metadata": {
    "collapsed": false
   }
  },
  {
   "cell_type": "code",
   "metadata": {
    "colab": {
     "base_uri": "https://localhost:8080/",
     "height": 265
    },
    "id": "tW06gbBkRhdx",
    "outputId": "196b6236-b295-4d80-d40b-eccc61faab77"
   },
   "source": [
    "plt.plot(t, x_finite_diff, color=\"green\")\n",
    "plt.plot(t, exact(t), color=\"red\")\n",
    "plt.grid()\n",
    "\n"
   ],
   "execution_count": null,
   "outputs": []
  }
 ]
}
