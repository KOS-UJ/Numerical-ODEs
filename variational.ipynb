{
 "nbformat": 4,
 "nbformat_minor": 0,
 "metadata": {
  "colab": {
   "name": "picard.ipynb",
   "provenance": [],
   "collapsed_sections": []
  },
  "kernelspec": {
   "name": "python3",
   "display_name": "Python 3"
  }
 },
 "cells": [
  {
   "cell_type": "markdown",
   "metadata": {
    "id": "IWuOh5GQ347_"
   },
   "source": [
    "## Numeryczne Rozwiązywanie Rónań Różniczkowych Zwyczajnych\n",
    "### Uniwersytet Jagielloński 2021\n",
    "Katedra Teorii Optymalizacji i Sterowania UJ"
   ]
  },
  {
   "cell_type": "code",
   "metadata": {
    "id": "Q9umRbG8QnQY"
   },
   "source": [
    "import numpy as np\n",
    "from scipy.integrate import quad\n",
    "import matplotlib.pyplot as plt"
   ],
   "execution_count": null,
   "outputs": []
  },
  {
   "cell_type": "markdown",
   "metadata": {
    "id": "a9WAlMl85aOY"
   },
   "source": [
    "## Solver Rayleigh-Ritz"
   ]
  },
  {
   "cell_type": "code",
   "metadata": {
    "id": "heGSbr7g5jZy"
   },
   "source": [
    "class RayleighRitz:\n",
    "    def __init__(self, p, q, f, phis, phi_dt):\n",
    "        assert all([phi(0) == phi(1) == 0 for phi in phis])\n",
    "        assert len(phis) == len(phi_dt)\n",
    "        self.phis = phis\n",
    "        self.n = len(phis)\n",
    "        A = None\n",
    "        b = None\n",
    "        self.c = np.linalg.solve(A, b)\n",
    "\n",
    "    def __call__(self, t):\n",
    "        return sum([self.phis[i](t) * self.c[i] for i in range(self.n)])\n"
   ],
   "execution_count": null,
   "outputs": []
  },
  {
   "cell_type": "markdown",
   "source": [
    "## Zadanie 1\n"
   ],
   "metadata": {
    "collapsed": false
   }
  },
  {
   "cell_type": "code",
   "execution_count": null,
   "outputs": [],
   "source": [
    "    p = None\n",
    "    q = None\n",
    "    f = None\n",
    "    phis = []\n",
    "    phi_dt = []\n",
    "    rr_solution = RayleighRitz(p, q, f, phis, phi_dt)\n",
    "    tn = np.linspace(0, 1)\n",
    "    plt.plot(tn, rr_solution(tn), label=\"Rayleigh-Ritz\")\n",
    "    xn = (lambda t: 1 / np.sin(1) * np.sin(t) - t)(tn)\n",
    "    plt.plot(tn, xn, label=\"exact\")"
   ],
   "metadata": {
    "collapsed": false,
    "pycharm": {
     "name": "#%%\n"
    }
   }
  },
  {
   "cell_type": "markdown",
   "source": [
    "## Zadanie 2\n"
   ],
   "metadata": {
    "collapsed": false
   }
  },
  {
   "cell_type": "code",
   "execution_count": null,
   "outputs": [],
   "source": [
    "    p = None\n",
    "    q = None\n",
    "    f = None\n",
    "    phis = []\n",
    "    phi_dt = []\n",
    "    rr_solution = RayleighRitz(p, q, f, phis, phi_dt)\n",
    "    tn = np.linspace(0, 1)\n",
    "    plt.plot(tn, rr_solution(tn), label=\"Rayleigh-Ritz\")\n",
    "    xn = (lambda t: (np.e ** 2 * t - t / (np.e ** 2) + np.e ** (-2 * t) - np.e ** (2 * t)) / (1 + np.e ** 2))(tn)\n",
    "    plt.plot(tn, xn, label=\"exact\")\n"
   ],
   "metadata": {
    "collapsed": false,
    "pycharm": {
     "name": "#%%\n"
    }
   }
  },
  {
   "cell_type": "markdown",
   "source": [
    "## Zadanie 3\n"
   ],
   "metadata": {
    "collapsed": false
   }
  },
  {
   "cell_type": "code",
   "execution_count": null,
   "outputs": [],
   "source": [
    "    p = None\n",
    "    q = None\n",
    "    f = None\n",
    "    phis = []\n",
    "    phi_dt = []\n",
    "    rr_solution = RayleighRitz(p, q, f, phis, phi_dt)\n",
    "    tn = np.linspace(0, 1)\n",
    "    plt.plot(tn, rr_solution(tn), label=\"Rayleigh-Ritz\")\n",
    "    xn = (lambda t: 1 - 1 / np.cos(1/2) * np.cos(3/2 - t))(tn)\n",
    "    plt.plot(tn, xn, label=\"exact\")"
   ],
   "metadata": {
    "collapsed": false,
    "pycharm": {
     "name": "#%%\n"
    }
   }
  },
  {
   "cell_type": "markdown",
   "source": [
    "## Zadanie 4\n"
   ],
   "metadata": {
    "collapsed": false
   }
  },
  {
   "cell_type": "code",
   "execution_count": null,
   "outputs": [],
   "source": [
    "    p = None\n",
    "    q = None\n",
    "    f = None\n",
    "    phis = []\n",
    "    phi_dt = []\n",
    "    rr_solution = RayleighRitz(p, q, f, phis, phi_dt)\n",
    "    tn = np.linspace(0, 1)\n",
    "    plt.plot(tn, rr_solution(tn), label=\"Rayleigh-Ritz\")\n",
    "    xn = (lambda t: t * (t - 1))(tn)\n",
    "    plt.plot(tn, xn, label=\"exact\")\n"
   ],
   "metadata": {
    "collapsed": false,
    "pycharm": {
     "name": "#%%\n"
    }
   }
  }
 ]
}