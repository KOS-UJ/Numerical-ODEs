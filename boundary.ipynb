{
  "nbformat": 4,
  "nbformat_minor": 0,
  "metadata": {
    "colab": {
      "provenance": []
    },
    "kernelspec": {
      "name": "python3",
      "display_name": "Python 3"
    }
  },
  "cells": [
    {
      "cell_type": "markdown",
      "metadata": {
        "id": "IWuOh5GQ347_"
      },
      "source": [
        "## Numeryczne Rozwiązywanie Rónań Różniczkowych Zwyczajnych\n",
        "### Uniwersytet Jagielloński 2023\n",
        "Katedra Teorii Optymalizacji i Sterowania UJ"
      ]
    },
    {
      "cell_type": "code",
      "metadata": {
        "id": "Q9umRbG8QnQY"
      },
      "source": [
        "import numpy as np\n",
        "from numpy import sin, cos, exp, sqrt\n",
        "import matplotlib.pyplot as plt"
      ],
      "execution_count": 1,
      "outputs": []
    },
    {
      "cell_type": "markdown",
      "metadata": {
        "id": "a9WAlMl85aOY"
      },
      "source": [
        "## Równanie różniczkowe zwyczajne rzędu 2\n",
        "\n",
        "Każde równanie różniczkowe rzędu n można traktować jako układ równań n równań różniczkowych rzędu 1.\n",
        "\n",
        "Rozważmy RRZ rzędu 2:\n",
        "\n",
        "$x''(t) = f(t, x, x')$\n",
        "\n",
        "$t \\in [a, b]$   \n",
        "\n",
        "$x(a) = \\alpha, \\quad x'(a) = \\gamma$\n",
        "\n",
        "Zastosujmy podstawienie: $y = x'$, wtedy:\n",
        "\n",
        "$x'(t) = y = f_0(t, x, y)$\n",
        "\n",
        "$y'(t) = f_1(t, x, y)$\n",
        "\n",
        "Przechodząc na przestrzeń wektorów $R^2$ mamy dobrze znane równanie:\n",
        "\n",
        "$𝐱'(t) = 𝐟(t, 𝐱)$\n",
        "\n",
        "z warunkiem początkowym $𝐱(a) = (\\alpha, \\gamma)$."
      ]
    },
    {
      "cell_type": "code",
      "metadata": {
        "id": "heGSbr7g5jZy"
      },
      "source": [
        "def rk4(dxdt, t, x, h):\n",
        "    k1 = h * dxdt(t, x[-1])\n",
        "    k2 = h * dxdt(t + 0.5 * h, x[-1] + 0.5 * k1)\n",
        "    k3 = h * dxdt(t + 0.5 * h, x[-1] + 0.5 * k2)\n",
        "    k4 = h * dxdt(t + h, x[-1] + k3)\n",
        "    return x[-1] + (k1 + 2 * k2 + 2 * k3 + k4) / 6\n",
        "\n",
        "def initial_value_problem(f, h=0.01, a=0, b=1, alpha=0, gamma=1):\n",
        "    y = [np.asarray([alpha, gamma])]\n",
        "    t = [a]\n",
        "    def fp(t, y):\n",
        "        return np.asarray([y[1], f(t, y)])\n",
        "    next_t = t[-1] + h\n",
        "    while next_t <= b:\n",
        "        y.append(rk4(fp, t[-1], y, h))\n",
        "        t.append(next_t)\n",
        "        next_t += h\n",
        "    return np.asarray(t), np.asarray(y)"
      ],
      "execution_count": 2,
      "outputs": []
    },
    {
      "cell_type": "code",
      "source": [
        "t, x = initial_value_problem(f=lambda t, x: -x[1] - x[0], a=0, b=3, alpha=1, gamma=2, h=0.01)\n",
        "plt.plot(t, x[:, 0], color=\"black\")\n",
        "plt.plot(t, exp(-0.5 * t) * (5/sqrt(3) * sin(sqrt(3) / 2 * t) + cos(sqrt(3) / 2 * t)), color=\"red\")"
      ],
      "metadata": {
        "colab": {
          "base_uri": "https://localhost:8080/",
          "height": 447
        },
        "id": "bdAn2NnEvHZq",
        "outputId": "d1ec5cb3-160b-4579-94f7-d6edb380d78b"
      },
      "execution_count": 3,
      "outputs": [
        {
          "output_type": "execute_result",
          "data": {
            "text/plain": [
              "[<matplotlib.lines.Line2D at 0x7fed45d34940>]"
            ]
          },
          "metadata": {},
          "execution_count": 3
        },
        {
          "output_type": "display_data",
          "data": {
            "text/plain": [
              "<Figure size 640x480 with 1 Axes>"
            ],
            "image/png": "[encoded data removed]"
          },
          "metadata": {}
        }
      ]
    },
    {
      "cell_type": "markdown",
      "source": [
        "## Metoda strzałów\n"
      ],
      "metadata": {
        "collapsed": false,
        "id": "40kvzXjglI0p"
      }
    },
    {
      "cell_type": "markdown",
      "source": [
        "#### Funkcja phi"
      ],
      "metadata": {
        "collapsed": false,
        "id": "61AK-Gy5lI0v"
      }
    },
    {
      "cell_type": "code",
      "execution_count": null,
      "outputs": [],
      "source": [
        "def phi(z):\n",
        "    pass"
      ],
      "metadata": {
        "id": "Q_13mLF8lI0z"
      }
    },
    {
      "cell_type": "markdown",
      "source": [
        "#### Pochodna funkcji phi"
      ],
      "metadata": {
        "collapsed": false,
        "id": "X6KDCENBlI0z"
      }
    },
    {
      "cell_type": "code",
      "execution_count": null,
      "outputs": [],
      "source": [
        "def d_phi(z):\n",
        "    pass"
      ],
      "metadata": {
        "id": "WvMhDjQ0lI0z"
      }
    },
    {
      "cell_type": "markdown",
      "source": [
        "#### Metoda Newtona"
      ],
      "metadata": {
        "collapsed": false,
        "id": "MSlti5HdlI00"
      }
    },
    {
      "cell_type": "code",
      "execution_count": null,
      "outputs": [],
      "source": [
        "def newton(function, initial_value):\n",
        "    pass"
      ],
      "metadata": {
        "id": "m2cL1nRqlI00"
      }
    },
    {
      "cell_type": "code",
      "execution_count": null,
      "outputs": [],
      "source": [
        "x_shooting = newton(phi, z)\n"
      ],
      "metadata": {
        "id": "6ESa8oAplI00"
      }
    },
    {
      "cell_type": "code",
      "execution_count": null,
      "outputs": [],
      "source": [
        "plt.plot(t, x_shooting, color=\"olive\")\n",
        "plt.plot(t, exact(t), color=\"red\")\n",
        "plt.grid()"
      ],
      "metadata": {
        "id": "SvFgF-4VlI00"
      }
    },
    {
      "cell_type": "markdown",
      "source": [
        "## Metoda różnic skończonych\n"
      ],
      "metadata": {
        "collapsed": false,
        "id": "DAzVRyDzlI00"
      }
    },
    {
      "cell_type": "markdown",
      "metadata": {
        "id": "Ijfi_rJp4NsC"
      },
      "source": [
        "#### Konstrukcja układu równań"
      ]
    },
    {
      "cell_type": "code",
      "metadata": {
        "id": "25o54yqgQuQS"
      },
      "source": [
        "# TODO"
      ],
      "execution_count": null,
      "outputs": []
    },
    {
      "cell_type": "markdown",
      "metadata": {
        "id": "HUt7_Sq3Q-s-",
        "outputId": "b12de7ac-61a5-400c-ef72-c30f0718c718"
      },
      "source": [
        "#### Rozwiązanie układu równań"
      ]
    },
    {
      "cell_type": "code",
      "execution_count": null,
      "outputs": [],
      "source": [
        "x_finite_diff = np.linalg.solve(a, b)\n"
      ],
      "metadata": {
        "id": "c_7TKO5MlI01"
      }
    },
    {
      "cell_type": "code",
      "metadata": {
        "id": "tW06gbBkRhdx"
      },
      "source": [
        "plt.plot(t, x_finite_diff, color=\"green\")\n",
        "plt.plot(t, exact(t), color=\"red\")\n",
        "plt.grid()\n",
        "\n"
      ],
      "execution_count": null,
      "outputs": []
    }
  ]
}